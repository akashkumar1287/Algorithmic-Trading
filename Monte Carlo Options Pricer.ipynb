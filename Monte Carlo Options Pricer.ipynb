{
 "cells": [
  {
   "cell_type": "code",
   "execution_count": 8,
   "metadata": {},
   "outputs": [],
   "source": [
    "import math\n",
    "import random\n",
    "import numpy\n",
    "\n",
    "##Simple Monte Carlo Pricing Class for Vanilla Call Option\n",
    "class SimpleMCPricer():\n",
    "    def __init__(self, expiry, strike, spot, vol, r, paths):\n",
    "        #The sigma value on the left side of the exponent\n",
    "        self.variance = vol**2 * expiry\n",
    "        #The sigma value on the right side of the e exponent\n",
    "        self.root_Variance = math.sqrt(self.variance)\n",
    "        #Corresponds to the (-1/2 * sigma^2)\n",
    "        self.itoCorr = -0.5*self.variance\n",
    "        ##Corresponds to S0e^(rT - 1/2 sigma^2T)\n",
    "        self.movedSpot = spot*math.exp(r*expiry + self.itoCorr)\n",
    "        self.runningSum = 0\n",
    "        ##Simulate for all paths\n",
    "        for i in range(0,paths):\n",
    "            thisGauss = numpy.random.normal()\n",
    "            ##Our rootVariance already has been multiplied by the expiry\n",
    "            thisSpot = self.movedSpot*math.exp(self.root_Variance*thisGauss)\n",
    "            #Determine payoff of this specific path\n",
    "            thisPayoff = thisSpot - strike\n",
    "            #Value of option is zero is our price is less than the strike\n",
    "            thisPayoff = thisPayoff if thisPayoff > 0 else 0\n",
    "            self.runningSum+=thisPayoff\n",
    "        \n",
    "        self.mean = self.runningSum/paths\n",
    "        self.mean*= math.exp(-r * expiry)\n",
    "    \n",
    "    def getMean(self):\n",
    "        return round(self.mean,2)"
   ]
  },
  {
   "cell_type": "code",
   "execution_count": 9,
   "metadata": {},
   "outputs": [
    {
     "data": {
      "text/plain": [
       "1.63"
      ]
     },
     "execution_count": 9,
     "metadata": {},
     "output_type": "execute_result"
    }
   ],
   "source": [
    "model = SimpleMCPricer(2,32,30,.1,0.03,1000000)\n",
    "model.getMean()"
   ]
  }
 ],
 "metadata": {
  "kernelspec": {
   "display_name": "Python 3",
   "language": "python",
   "name": "python3"
  },
  "language_info": {
   "codemirror_mode": {
    "name": "ipython",
    "version": 3
   },
   "file_extension": ".py",
   "mimetype": "text/x-python",
   "name": "python",
   "nbconvert_exporter": "python",
   "pygments_lexer": "ipython3",
   "version": "3.8.5"
  }
 },
 "nbformat": 4,
 "nbformat_minor": 4
}
